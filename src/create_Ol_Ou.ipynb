{
 "cells": [
  {
   "cell_type": "markdown",
   "metadata": {},
   "source": [
    "In this notebook you can calculate the orientations of two crystal creating a grain boundary. This grain boundary is defined by n_go which is the normal of the grain boundary with respect to the global coordinates.\n",
    "In this notebook we have:\n",
    "1. `O_L`= $\\Lambda_{p1}^{Go}$\n",
    "2. `O_U` = $\\Lambda_{p2}^{Go}$\n",
    "\n",
    "Therefore\n",
    "\n",
    "$\\Lambda_{p2}^{Go}$ = $\\Lambda_{p1}^{Go}$$\\Lambda_{p2}^{p1}$"
   ]
  },
  {
   "cell_type": "markdown",
   "metadata": {},
   "source": [
    "First import all packages needed."
   ]
  },
  {
   "cell_type": "code",
   "execution_count": 49,
   "metadata": {},
   "outputs": [],
   "source": [
    "import numpy as np\n",
    "import numpy as np\n",
    "import byxtal.bp_basis as plb\n",
    "import byxtal.integer_manipulations as int_man\n",
    "import byxtal.find_csl_dsc as fcd"
   ]
  },
  {
   "cell_type": "markdown",
   "metadata": {},
   "source": [
    "1. `n_go`: The grain boundary normal in global ref. frame. This will be the input. \n",
    "2. `l_p_po`: $\\Lambda_{p}^{po}$\n",
    "3. `trans`: $\\Lambda_{p2}^{p1}$"
   ]
  },
  {
   "cell_type": "code",
   "execution_count": 50,
   "metadata": {},
   "outputs": [],
   "source": [
    "# Choose the gb plan normal plane you are interested in\n",
    "n_go = np.array([0, 0,1])\n",
    "L_p_po = 1.0 * np.array([[0.,0.5,0.5],[0.5,0.,0.5],[0.5,0.5,0.]])\n",
    "# The rotation matrix corresponding to the \\Sigma rotation\n",
    "trans = np.array([[-1, 2, 2],[2, -1, 2],[2, 2, -1]])/3\n",
    "index_type  = 'normal_g'\n",
    "T_reference = 'g1'"
   ]
  },
  {
   "cell_type": "code",
   "execution_count": 51,
   "metadata": {},
   "outputs": [],
   "source": [
    "# The csl calculations\n",
    "L_2d_csl_p1, L_pl1_p1, L_pl2_p1 = plb.gb_2d_csl(n_po, t_mat, L_p_po, index_type, T_reference)"
   ]
  },
  {
   "cell_type": "code",
   "execution_count": 52,
   "metadata": {},
   "outputs": [
    {
     "name": "stdout",
     "output_type": "stream",
     "text": [
      "\n",
      "The misorientation of lower crystal\n",
      "[[ 0.70710678  0.         -0.70710678]\n",
      " [-0.70710678  0.         -0.70710678]\n",
      " [ 0.          1.          0.        ]]\n",
      "\n",
      "The misorientation of upper crystal\n",
      "[[-0.70710678  0.          0.70710678]\n",
      " [-0.23570226 -0.94280904 -0.23570226]\n",
      " [ 0.66666667 -0.33333333  0.66666667]]\n"
     ]
    }
   ],
   "source": [
    "# a_0is parallel to the \n",
    "a_0 = L_2d_csl_p1[:,0]\n",
    "a = a_0/np.linalg.norm(a_0)\n",
    "\n",
    "b = n_po/np.linalg.norm(n_po)\n",
    "\n",
    "c_0 = np.cross(a_0,n_po)\n",
    "c = c_0/np.linalg.norm(c_0)\n",
    "\n",
    "O_L = np.stack((a,b,c), axis=1)\n",
    "\n",
    "O_U = np.matmul(O_L,t_mat)\n",
    "Orient = np.zeros((3,6))\n",
    "Orient[:, 0:3] = O_L\n",
    "Orient[:, 3:6] = O_U\n",
    "# dum the orientations to the 'orientations.txt'\n",
    "np.savetxt('orientations.txt', Orient, delimiter='\\t')\n",
    "print('\\nThe misorientation of lower crystal')\n",
    "print(O_L)\n",
    "print('\\nThe misorientation of upper crystal')\n",
    "print(O_U)"
   ]
  },
  {
   "cell_type": "code",
   "execution_count": null,
   "metadata": {},
   "outputs": [],
   "source": []
  }
 ],
 "metadata": {
  "kernelspec": {
   "display_name": "Python 3",
   "language": "python",
   "name": "python3"
  },
  "language_info": {
   "codemirror_mode": {
    "name": "ipython",
    "version": 3
   },
   "file_extension": ".py",
   "mimetype": "text/x-python",
   "name": "python",
   "nbconvert_exporter": "python",
   "pygments_lexer": "ipython3",
   "version": "3.8.5"
  }
 },
 "nbformat": 4,
 "nbformat_minor": 4
}
