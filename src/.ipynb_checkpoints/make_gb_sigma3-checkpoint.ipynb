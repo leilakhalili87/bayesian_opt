{
 "cells": [
  {
   "cell_type": "markdown",
   "metadata": {},
   "source": [
    "In this notebook you can calculate the orientations of two crystal creating a grain boundary. This grain boundary is defined by n_go which is the normal of the grain boundary with respect to the global coordinates.\n",
    "In this notebook we have:\n",
    "1. `O_L`= $\\Lambda_{p1}^{Go}$\n",
    "2. `O_U` = $\\Lambda_{p2}^{Go}$\n",
    "\n",
    "Therefore\n",
    "\n",
    "$\\Lambda_{p2}^{Go}$ = $\\Lambda_{p1}^{Go}$$\\Lambda_{p2}^{p1}$"
   ]
  },
  {
   "cell_type": "markdown",
   "metadata": {},
   "source": [
    "First import all packages needed."
   ]
  },
  {
   "cell_type": "code",
   "execution_count": 1,
   "metadata": {},
   "outputs": [],
   "source": [
    "import numpy as np\n",
    "import numpy as np\n",
    "import byxtal.bp_basis as plb\n",
    "import byxtal.integer_manipulations as int_man\n",
    "import byxtal.find_csl_dsc as fcd"
   ]
  },
  {
   "cell_type": "markdown",
   "metadata": {},
   "source": [
    "1. `n_go`: The grain boundary normal in global ref. frame. This will be the input. \n",
    "2. `l_p_po`: $\\Lambda_{p}^{po}$\n",
    "3. `trans`: $\\Lambda_{p2}^{p1}$"
   ]
  },
  {
   "cell_type": "code",
   "execution_count": 2,
   "metadata": {},
   "outputs": [],
   "source": [
    "L_p_po = 1.0 * np.array([[0.,0.5,0.5],[0.5,0.,0.5],[0.5,0.5,0.]])\n",
    "# The rotation matrix corresponding to the \\Sigma rotation\n",
    "trans = np.array([[-1, 2, 2],[2, -1, 2],[2, 2, -1]])/3\n",
    "index_type  = 'normal_g'\n",
    "T_reference = 'g1'\n",
    "\n",
    "\n",
    "# read the data points\n",
    "# these data are all the \\Sigma3 gb's from olmsted paper\n",
    "all_gb_n = np.loadtxt('../data/sigma3_gbnormal.txt')\n",
    "size_data = np.shape(all_gb_n)[0]"
   ]
  },
  {
   "cell_type": "code",
   "execution_count": 3,
   "metadata": {},
   "outputs": [],
   "source": [
    "Orient = np.zeros((3*size_data,6))\n",
    "# Choose the gb plan normal plane you are interested in\n",
    "for i in range(size_data):\n",
    "    init_val = 3*i\n",
    "    fin_val = init_val + 3\n",
    "    n_go = np.array([0, 0,1])\n",
    "    # The csl calculations\n",
    "    L_2d_csl_p1, L_pl1_p1, L_pl2_p1 = plb.gb_2d_csl(n_go, trans, L_p_po, index_type, T_reference)\n",
    "    a_0 = L_2d_csl_p1[:,0]\n",
    "    a = a_0/np.linalg.norm(a_0)\n",
    "\n",
    "    b = n_go/np.linalg.norm(n_go)\n",
    "\n",
    "    c_0 = np.cross(a_0,n_go)\n",
    "    c = c_0/np.linalg.norm(c_0)\n",
    "\n",
    "    O_L = np.stack((a,b,c), axis=1)\n",
    "\n",
    "    O_U = np.matmul(O_L,trans)\n",
    "    \n",
    "    Orient[init_val:fin_val, 0:3] = O_L\n",
    "    Orient[init_val:fin_val, 3:6] = O_U\n",
    "    "
   ]
  },
  {
   "cell_type": "code",
   "execution_count": null,
   "metadata": {},
   "outputs": [],
   "source": [
    "np.savetxt('all_orientations.txt', Orient, delimiter='\\t')"
   ]
  },
  {
   "cell_type": "code",
   "execution_count": null,
   "metadata": {},
   "outputs": [],
   "source": []
  }
 ],
 "metadata": {
  "kernelspec": {
   "display_name": "Python 3",
   "language": "python",
   "name": "python3"
  },
  "language_info": {
   "codemirror_mode": {
    "name": "ipython",
    "version": 3
   },
   "file_extension": ".py",
   "mimetype": "text/x-python",
   "name": "python",
   "nbconvert_exporter": "python",
   "pygments_lexer": "ipython3",
   "version": "3.8.5"
  }
 },
 "nbformat": 4,
 "nbformat_minor": 4
}
