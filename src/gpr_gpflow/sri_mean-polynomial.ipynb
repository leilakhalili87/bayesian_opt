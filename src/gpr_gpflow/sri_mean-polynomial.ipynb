{
 "cells": [
  {
   "cell_type": "markdown",
   "metadata": {},
   "source": [
    "# In this notebook I made an gaussian process regression with customized kernel, likelihood and mean function.\n",
    "Here I approximate the mean function with a $y = ax^2+bx+c$"
   ]
  },
  {
   "cell_type": "code",
   "execution_count": 1,
   "metadata": {},
   "outputs": [],
   "source": [
    "import pickle as pkl\n",
    "import gpflow\n",
    "import numpy as np\n",
    "import matplotlib.pyplot as plt\n",
    "import tensorflow as tf\n",
    "from gpflow.utilities import print_summary, positive, set_trainable\n",
    "from gpflow.config import set_default_float, default_float, set_default_summary_fmt\n",
    "from gpflow.ci_utils import ci_niter\n",
    "from gpflow.optimizers import NaturalGradient\n",
    "from gpflow.config.__config__ import default_float, default_int\n",
    "from gpflow.base import Parameter\n",
    "\n",
    "\n",
    "set_default_float(np.float64)\n",
    "set_default_summary_fmt(\"notebook\")\n",
    "\n",
    "# plt.style.use(\"ggplot\")\n",
    "%matplotlib inline\n",
    "np.random.seed(2021)\n",
    "tf.config.run_functions_eagerly(True)"
   ]
  },
  {
   "cell_type": "markdown",
   "metadata": {},
   "source": [
    "Input data:"
   ]
  },
  {
   "cell_type": "code",
   "execution_count": 2,
   "metadata": {},
   "outputs": [],
   "source": [
    "switch_mean = True\n",
    "    \n",
    "n_train = 20"
   ]
  },
  {
   "cell_type": "markdown",
   "metadata": {},
   "source": [
    "calculate the metric of the $\\Sigma$3 dataset"
   ]
  },
  {
   "cell_type": "code",
   "execution_count": 3,
   "metadata": {},
   "outputs": [],
   "source": [
    "# pkl_name = '../../data/symm_angs_engs.pkl'\n",
    "# jar = open(pkl_name, 'rb')\n",
    "# s2 = pkl.load(jar,encoding='latin1')\n",
    "# jar.close()\n",
    "\n",
    "# Angle = s2['angs']*180/np.pi                 # in radian\n",
    "# Y0 = s2['engs']                     # eng is mJ/m^2\n",
    "# cusp_ang = s2['cusps']['angs']      # the angle of cusps in radian \n",
    "# cusp_Es = s2['cusps']['engs']       # the energy of cusps in radian\n",
    "# num_data = len(Angle)\n",
    "\n",
    "# # Calculates the metric for ground truth data\n",
    "# metric_arc_gt = np.zeros((num_data, num_data))\n",
    "# theta_0 = Angle\n",
    "# for i in range(num_data):\n",
    "#     theta0 = theta_0[i] - np.floor(theta_0[i]/np.pi)*np.pi\n",
    "#     for j in range(num_data):\n",
    "#         theta1 = theta_0[j] - np.floor(theta_0[j]/np.pi)*np.pi\n",
    "#         metric_arc_gt[i,j] = np.min([np.abs(theta1 - theta0), np.abs(np.pi - theta1 - theta0)])\n",
    "# np.savetxt('metric_arc_gt.txt', metric_arc_gt)"
   ]
  },
  {
   "cell_type": "code",
   "execution_count": 4,
   "metadata": {},
   "outputs": [],
   "source": [
    "# theta_test = np.linspace(0, 180, 500)\n",
    "# # Calculates the metric for test data\n",
    "# num_data = len(theta_test)\n",
    "# metric_arc_t = np.zeros((num_data, num_data))\n",
    "# theta_0 = theta_test\n",
    "# for i in range(num_data):\n",
    "#     theta0 = theta_0[i] - np.floor(theta_0[i]/np.pi)*np.pi\n",
    "#     for j in range(num_data):\n",
    "#         theta1 = theta_0[j] - np.floor(theta_0[j]/np.pi)*np.pi\n",
    "#         metric_arc_t[i,j] = np.min([np.abs(theta1 - theta0), np.abs(np.pi - theta1 - theta0)])\n",
    "# np.savetxt('metric_arc_t.txt', metric_arc_t)"
   ]
  },
  {
   "cell_type": "code",
   "execution_count": 3,
   "metadata": {},
   "outputs": [],
   "source": [
    "pkl_name = '../../data/symm_angs_engs.pkl'\n",
    "jar = open(pkl_name, 'rb')\n",
    "s2 = pkl.load(jar,encoding='latin1')\n",
    "jar.close()\n",
    "\n",
    "Angle = s2['angs']*180/np.pi                 # in radian\n",
    "Y0 = s2['engs']                     # eng is mJ/m^2\n",
    "cusp_ang = s2['cusps']['angs']      # the angle of cusps in radian \n",
    "cusp_Es = s2['cusps']['engs']       # the energy of cusps in radian\n",
    "theta_test = np.linspace(0, 180, 500)\n",
    "# all_test = np.hstack((Angle, theta_test))\n",
    "all_test = Angle\n",
    "num_data = len(all_test)\n",
    "\n",
    "metric_arc_all = np.zeros((num_data, num_data))\n",
    "theta_0 = all_test\n",
    "for i in range(num_data):\n",
    "    theta0 = theta_0[i] - np.floor(theta_0[i]/np.pi)*np.pi\n",
    "    for j in range(num_data):\n",
    "        theta1 = theta_0[j] - np.floor(theta_0[j]/np.pi)*np.pi\n",
    "        metric_arc_all[i,j] = np.min([np.abs(theta1 - theta0), np.abs(np.pi - theta1 - theta0)])\n",
    "np.savetxt('metric_arc_all.txt', metric_arc_all)"
   ]
  },
  {
   "cell_type": "code",
   "execution_count": 4,
   "metadata": {},
   "outputs": [],
   "source": [
    "rad_cusp_ang = cusp_ang * 180 / np.pi\n",
    "num_art_test = len(theta_test)\n",
    "fake_test = np.zeros((num_art_test, 3))\n",
    "fake_test[:,0] = theta_test\n",
    "fake_test[:,1] = np.linspace(0, num_art_test - 1, num_art_test) + len(Angle)\n",
    "for i in range(num_art_test):\n",
    "    if theta_test[i] <= rad_cusp_ang[1]:\n",
    "        fake_test[i,2] = 0\n",
    "    if theta_test[i] > rad_cusp_ang[1]:\n",
    "        if theta_test[i] <= rad_cusp_ang[2]:\n",
    "            fake_test[i,2] = 1\n",
    "    if theta_test[i] > rad_cusp_ang[2]:\n",
    "        fake_test[i,2] = 2\n"
   ]
  },
  {
   "cell_type": "markdown",
   "metadata": {},
   "source": [
    "Define the customized kernel"
   ]
  },
  {
   "cell_type": "code",
   "execution_count": 5,
   "metadata": {},
   "outputs": [],
   "source": [
    "data_pd = 'metric_arc_all.txt'\n",
    "def _octonion_dist(X, X2):\n",
    "    X = tf.reshape(X, [-1,1])\n",
    "    pd = np.loadtxt(data_pd)\n",
    "    X2 = tf.reshape(X2, [-1,1])\n",
    "    dist0 = np.zeros((len(X), len(X2)))\n",
    "    dist = tf.Variable(dist0) # Use variable \n",
    "    for i in range(len(X)):\n",
    "        init_val = int(X[i].numpy())\n",
    "        for j in range(len(X2)):\n",
    "            fin_val = int(X2[j].numpy())\n",
    "            dist0[i,j] = pd[init_val, fin_val]\n",
    "    dist.assign(dist0)\n",
    "    return dist\n",
    "\n",
    "def _octonion_dist_single(X):\n",
    "    X = tf.reshape(X, [-1,1])\n",
    "    pd = np.loadtxt(data_pd)\n",
    "    dist0 = np.zeros((len(X)))\n",
    "    dist = tf.Variable(dist0) # Use variable \n",
    "    for i in range(len(X)):\n",
    "        init_val = int(X[i].numpy())\n",
    "\n",
    "        dist0[i] = pd[init_val, init_val]\n",
    "    dist.assign(dist0)\n",
    "    return dist\n",
    "\n",
    "class GBKernel(gpflow.kernels.Kernel):   \n",
    "    def __init__(self, variance=1, lengthscales=.5, **kwargs):\n",
    "        super().__init__(**kwargs)\n",
    "        self.variance = gpflow.Parameter(variance, transform=positive())\n",
    "        self.lengthscales = gpflow.Parameter(lengthscales, transform=positive())\n",
    "        self._validate_ard_active_dims(self.lengthscales)\n",
    "    \n",
    "    def K(self, X, X2=None):\n",
    "        X = X[:,0]\n",
    "        if X2 is None:\n",
    "            X2 = X\n",
    "        else:\n",
    "            X2 = X2[:,0]\n",
    "#         a = self.variance * tf.exp(-_octonion_dist(X, X2)/self.lengthscales)\n",
    "        a = self.variance * tf.exp(-0.5 * _octonion_dist(X, X2)/self.lengthscales)\n",
    "        tf.debugging.check_numerics(self.lengthscales, 'hi')\n",
    "        return a\n",
    "\n",
    "    def K_diag(self, X):\n",
    "        X = X[:,0]\n",
    "#         a = self.variance * tf.exp(-_octonion_dist_single(X)/self.lengthscales)\n",
    "        a = self.variance * tf.exp(-0.5 * _octonion_dist_single(X)/self.lengthscales)\n",
    "        tf.debugging.check_numerics(self.lengthscales, 'hi')\n",
    "        return a"
   ]
  },
  {
   "cell_type": "markdown",
   "metadata": {},
   "source": [
    "Define the multi varince noise in the data points "
   ]
  },
  {
   "cell_type": "code",
   "execution_count": 6,
   "metadata": {},
   "outputs": [],
   "source": [
    "class HeteroskedasticGaussian(gpflow.likelihoods.Likelihood):\n",
    "    def __init__(self, **kwargs):\n",
    "        # this likelihood expects a single latent function F, and two columns in the data matrix Y:\n",
    "        super().__init__(latent_dim=1, observation_dim=2, **kwargs)\n",
    "\n",
    "    def _log_prob(self, F, Y):\n",
    "        # log_prob is used by the quadrature fallback of variational_expectations and predict_log_density.\n",
    "        # Because variational_expectations is implemented analytically below, this is not actually needed,\n",
    "        # but is included for pedagogical purposes.\n",
    "        # Note that currently relying on the quadrature would fail due to https://github.com/GPflow/GPflow/issues/966\n",
    "        Y, NoiseVar = Y[:, 0], Y[:, 1]\n",
    "        return gpflow.logdensities.gaussian(Y, F, NoiseVar)\n",
    "\n",
    "    def _variational_expectations(self, Fmu, Fvar, Y):\n",
    "        Y, NoiseVar = Y[:, 0], Y[:, 1]\n",
    "        Fmu, Fvar = Fmu[:, 0], Fvar[:, 0]\n",
    "        return (\n",
    "            -0.5 * np.log(2 * np.pi)\n",
    "            - 0.5 * tf.math.log(NoiseVar)\n",
    "            - 0.5 * (tf.math.square(Y - Fmu) + Fvar) / NoiseVar\n",
    "        )\n",
    "\n",
    "    # The following two methods are abstract in the base class.\n",
    "    # They need to be implemented even if not used.\n",
    "\n",
    "    def _predict_log_density(self, Fmu, Fvar, Y):\n",
    "        raise NotImplementedError\n",
    "\n",
    "    def _predict_mean_and_var(self, Fmu, Fvar):\n",
    "        raise NotImplementedError"
   ]
  },
  {
   "cell_type": "markdown",
   "metadata": {},
   "source": [
    "Define the customized mean function"
   ]
  },
  {
   "cell_type": "code",
   "execution_count": 7,
   "metadata": {},
   "outputs": [],
   "source": [
    "from gpflow.config.__config__ import default_float, default_int\n",
    "from gpflow.base import Parameter\n",
    "\n",
    "class GB_mean_0(gpflow.mean_functions.MeanFunction):\n",
    "    \"\"\"\n",
    "    y_i = A x_i^2 + B X_i + c\n",
    "    \"\"\"\n",
    "    def __init__(self, A0=None, B0=None, C0=None):\n",
    "        \"\"\"\n",
    "        A is a matrix which maps each element of X to Y, b is an additive\n",
    "        constant.\n",
    "\n",
    "        If X has N rows and D columns, and Y is intended to have Q columns,\n",
    "        then A must be [D, Q], b must be a vector of length Q.\n",
    "        \"\"\"\n",
    "        gpflow.mean_functions.MeanFunction.__init__(self)\n",
    "        A0 = np.ones((1, 1), dtype=default_float()) if A0 is None else A0\n",
    "        B0 = np.ones((1, 1), dtype=default_float()) if B0 is None else B0\n",
    "        C0 = np.zeros(1, dtype=default_float()) if C0 is None else C0\n",
    "        \n",
    "        self.A0 = Parameter(np.atleast_2d(A0))\n",
    "        self.B0 = Parameter(np.atleast_2d(B0))\n",
    "        self.C0 = Parameter(C0)\n",
    "        \n",
    "    def __call__(self, X):\n",
    "        data0 = \"./first_cusp.txt\"\n",
    "        data = np.loadtxt(data0)\n",
    "        ang = data[:,0].astype(int)\n",
    "        x_new = X.numpy().astype(int)\n",
    "        X = ang[x_new].reshape(-1,1)\n",
    "        X = tf.convert_to_tensor(X, dtype=np.float64)\n",
    "        \n",
    "        var_0 = tf.tensordot(tf.math.pow(X, 2), self.A0, [[-1], [0]])\n",
    "        var_1 = tf.tensordot(X, self.B0, [[-1], [0]])\n",
    "        var_2 = self.C0\n",
    "        return var_0 + var_1 + var_2\n",
    "\n",
    "class GB_mean_1(gpflow.mean_functions.MeanFunction):\n",
    "    \"\"\"\n",
    "    y_i = A x_i + b\n",
    "    y_i = A x_i^2 + B X_i + c\n",
    "    \"\"\"\n",
    "    def __init__(self, A1=None, B1=None, C1=None):\n",
    "        \"\"\"\n",
    "        A is a matrix which maps each element of X to Y, b is an additive\n",
    "        constant.\n",
    "\n",
    "        If X has N rows and D columns, and Y is intended to have Q columns,\n",
    "        then A must be [D, Q], b must be a vector of length Q.\n",
    "        \"\"\"\n",
    "        gpflow.mean_functions.MeanFunction.__init__(self)\n",
    "        A1 = np.ones((1, 1), dtype=default_float()) if A1 is None else A1\n",
    "        B1 = np.ones((1, 1), dtype=default_float()) if B1 is None else B1\n",
    "        C1 = np.zeros(1, dtype=default_float()) if C1 is None else C1\n",
    "        \n",
    "        self.A1 = Parameter(np.atleast_2d(A1))\n",
    "        self.B1 = Parameter(np.atleast_2d(B1))\n",
    "        self.C1 = Parameter(C1)\n",
    "        \n",
    "    def __call__(self, X):\n",
    "        data0 = \"./first_cusp.txt\"\n",
    "        data = np.loadtxt(data0)\n",
    "        ang = data[:,0].astype(int)\n",
    "        x_new = X.numpy().astype(int)\n",
    "        X = ang[x_new].reshape(-1,1)\n",
    "        X = tf.convert_to_tensor(X, dtype=np.float64)\n",
    "        \n",
    "        var_0 = tf.tensordot(tf.math.pow(X, 2), self.A1, [[-1], [0]])\n",
    "        var_1 = tf.tensordot(X, self.B1, [[-1], [0]])\n",
    "        var_2 = self.C1\n",
    "        return var_0 + var_1 + var_2\n",
    "\n",
    "class GB_mean_2(gpflow.mean_functions.MeanFunction):\n",
    "    \"\"\"\n",
    "    y_i = A x_i + b\n",
    "    y_i = A x_i^2 + B X_i + c\n",
    "    \"\"\"\n",
    "    def __init__(self, A2=None, B2=None, C2=None):\n",
    "        \"\"\"\n",
    "        A is a matrix which maps each element of X to Y, b is an additive\n",
    "        constant.\n",
    "\n",
    "        If X has N rows and D columns, and Y is intended to have Q columns,\n",
    "        then A must be [D, Q], b must be a vector of length Q.\n",
    "        \"\"\"\n",
    "        gpflow.mean_functions.MeanFunction.__init__(self)\n",
    "        A2 = np.ones((1, 1), dtype=default_float()) if A2 is None else A2\n",
    "        B2 = np.ones((1, 1), dtype=default_float()) if B2 is None else B2\n",
    "        C2 = np.zeros(1, dtype=default_float()) if C2 is None else C2\n",
    "        \n",
    "        self.A2 = Parameter(np.atleast_2d(A2))\n",
    "        self.B2 = Parameter(np.atleast_2d(B2))\n",
    "        self.C2 = Parameter(C2)\n",
    "        \n",
    "    def __call__(self, X):\n",
    "        data0 = \"./first_cusp.txt\"\n",
    "        data = np.loadtxt(data0)\n",
    "        ang = data[:,0].astype(int)\n",
    "        x_new = X.numpy().astype(int)\n",
    "        X = ang[x_new].reshape(-1,1)\n",
    "        X = tf.convert_to_tensor(X, dtype=np.float64)\n",
    "        \n",
    "        var_0 = tf.tensordot(tf.math.pow(X, 2), self.A2, [[-1], [0]])\n",
    "        var_1 = tf.tensordot(X, self.B2, [[-1], [0]])\n",
    "        var_2 = self.C2\n",
    "        return var_0 + var_1 + var_2"
   ]
  },
  {
   "cell_type": "markdown",
   "metadata": {},
   "source": [
    "Read the data for [110] symm tilt gbs data"
   ]
  },
  {
   "cell_type": "code",
   "execution_count": 8,
   "metadata": {},
   "outputs": [],
   "source": [
    "data0 = \"./first_cusp.txt\"\n",
    "data = np.loadtxt(data0)\n",
    "X = data[:, 1:3]\n",
    "Y = data[:, 3]\n",
    "\n",
    "mean_y = np.mean(Y)\n",
    "std_y = np.std(Y)\n",
    "\n",
    "Y = (Y - mean_y) / std_y\n",
    "ang = data[:,0].astype(int)\n",
    "\n",
    "X = X.reshape(-1,2)\n",
    "Y_all = Y.reshape(-1,1)\n",
    "# _ = plt.plot(X[:,0], Y, \"kx\", mew=2)\n",
    "\n",
    "NoiseVar = np.exp(-((Y_all - 2) ** 2) / 4)/10\n",
    "NoiseVar = NoiseVar.reshape(-1,1)\n",
    "\n",
    "N = X.shape[0]\n",
    "n_train =30\n",
    "\n",
    "# I chose n_train gbs as training data set randomly\n",
    "# id_train0 = np.sort(np.random.choice(N, size=n_train, replace=False))\n",
    "id_train0 = np.floor(np.linspace(0,N-1,n_train))\n",
    "id_train1 = np.array([0, 29,44,  N-1])\n",
    "id_train0 = np.concatenate((id_train0, id_train1),axis=0)\n",
    "id_train0 = np.unique(id_train0).astype(int)\n",
    "id_train = np.hstack([id_train0.reshape(-1,1), X[id_train0][:,1].reshape(-1, 1)])\n",
    "Y_train = Y_all[id_train[:,0].astype(int)].reshape(-1,1)\n",
    "Nois_train = NoiseVar[id_train[:,0].astype(int)].reshape(-1,1)\n",
    "\n",
    "# # # I chose rest of the gbs as the test set\n",
    "id_test0 = X[~np.in1d(X[:,0], id_train0)][:,0]\n",
    "id_test = np.hstack([id_test0.reshape(-1,1), X[id_test0.astype(int)][:,1].reshape(-1, 1)])\n",
    "Y_test = Y_all[id_test0.astype(int)].reshape(-1,1)\n",
    "Nois_test = NoiseVar[id_test[:,0].astype(int)].reshape(-1,1)"
   ]
  },
  {
   "cell_type": "code",
   "execution_count": 9,
   "metadata": {},
   "outputs": [],
   "source": [
    "# adding noise to y values\n",
    "Y_data = np.hstack([Y_train, Nois_train])\n",
    "Y_data_test = np.hstack([Y_test, Nois_test])"
   ]
  },
  {
   "cell_type": "code",
   "execution_count": 10,
   "metadata": {},
   "outputs": [
    {
     "data": {
      "text/plain": [
       "Text(0, 0.5, 'Energy')"
      ]
     },
     "execution_count": 10,
     "metadata": {},
     "output_type": "execute_result"
    },
    {
     "data": {
      "image/png": "[encoded data removed]",
      "text/plain": [
       "<Figure size 432x288 with 1 Axes>"
      ]
     },
     "metadata": {
      "needs_background": "light"
     },
     "output_type": "display_data"
    }
   ],
   "source": [
    "plt.plot(X[:,0], Y_all, label='actural data')\n",
    "plt.plot(X[:,0], Y_all, \"kx\",label=\"approximated func\")\n",
    "plt.legend()\n",
    "plt.xlabel('Misorientation angle')\n",
    "plt.ylabel('Energy')"
   ]
  },
  {
   "cell_type": "markdown",
   "metadata": {},
   "source": [
    "Constructing the model"
   ]
  },
  {
   "cell_type": "code",
   "execution_count": 11,
   "metadata": {},
   "outputs": [],
   "source": [
    "# model construction\n",
    "likelihood = HeteroskedasticGaussian()\n",
    "kernel = GBKernel()\n",
    "pwl = [GB_mean_0(), GB_mean_1(), GB_mean_2()]\n",
    "meanf = gpflow.mean_functions.SwitchedMeanFunction(meanfunction_list=pwl)\n",
    "meanf = None\n",
    "model = gpflow.models.VGP((id_train, Y_data), kernel=kernel, mean_function=meanf, likelihood=likelihood, num_latent_gps=1)"
   ]
  },
  {
   "cell_type": "markdown",
   "metadata": {},
   "source": [
    "Optimizing the model"
   ]
  },
  {
   "cell_type": "code",
   "execution_count": 12,
   "metadata": {},
   "outputs": [],
   "source": [
    "natgrad = NaturalGradient(gamma=1)\n",
    "adam = tf.optimizers.Adam()\n",
    "\n",
    "set_trainable(model.q_mu, False)\n",
    "set_trainable(model.q_sqrt, False)\n",
    "\n",
    "for _ in range(ci_niter(1000)):\n",
    "    natgrad.minimize(model.training_loss, [(model.q_mu, model.q_sqrt)])\n",
    "    adam.minimize(model.training_loss, model.trainable_variables)"
   ]
  },
  {
   "cell_type": "markdown",
   "metadata": {},
   "source": [
    "Prediction"
   ]
  },
  {
   "cell_type": "code",
   "execution_count": null,
   "metadata": {},
   "outputs": [],
   "source": []
  },
  {
   "cell_type": "code",
   "execution_count": 13,
   "metadata": {},
   "outputs": [],
   "source": [
    "# apply model on test data set from the gt data\n",
    "mean_test_gt0, var_test_gt0 = model.predict_f(id_test)\n",
    "mean_test_gt = mean_test_gt0 * std_y + mean_y\n",
    "\n",
    "# apply model to the train data set\n",
    "mean_train_gt0, var_train_gt0 = model.predict_f(id_train)\n",
    "mean_train_gt = mean_train_gt0 * std_y + mean_y\n",
    "\n",
    "# # #apply model to the test data set\n",
    "# mean_fake_test0, var_fake_test0 = model.predict_f(fake_test[:,1:3])\n",
    "# mean_fake_test = mean_fake_test0 * std_y + mean_y\n",
    "\n",
    "Y_all_new = Y_all * std_y + mean_y"
   ]
  },
  {
   "cell_type": "code",
   "execution_count": 12,
   "metadata": {},
   "outputs": [
    {
     "data": {
      "text/plain": [
       "array([[ 1.,  0.],\n",
       "       [ 3.,  0.],\n",
       "       [ 5.,  0.],\n",
       "       [ 7.,  0.],\n",
       "       [ 8.,  0.],\n",
       "       [10.,  0.],\n",
       "       [12.,  0.],\n",
       "       [14.,  0.],\n",
       "       [15.,  0.],\n",
       "       [17.,  0.],\n",
       "       [19.,  0.],\n",
       "       [21.,  0.],\n",
       "       [22.,  0.],\n",
       "       [24.,  0.],\n",
       "       [26.,  0.],\n",
       "       [28.,  0.],\n",
       "       [31.,  1.],\n",
       "       [33.,  1.],\n",
       "       [35.,  1.],\n",
       "       [37.,  1.],\n",
       "       [38.,  1.],\n",
       "       [40.,  1.],\n",
       "       [42.,  1.],\n",
       "       [45.,  2.],\n",
       "       [47.,  2.],\n",
       "       [49.,  2.],\n",
       "       [51.,  2.],\n",
       "       [52.,  2.],\n",
       "       [54.,  2.],\n",
       "       [56.,  2.],\n",
       "       [58.,  2.],\n",
       "       [59.,  2.],\n",
       "       [61.,  2.],\n",
       "       [63.,  2.],\n",
       "       [65.,  2.],\n",
       "       [66.,  2.]])"
      ]
     },
     "execution_count": 12,
     "metadata": {},
     "output_type": "execute_result"
    }
   ],
   "source": [
    "id_test"
   ]
  },
  {
   "cell_type": "markdown",
   "metadata": {},
   "source": [
    "Plot the predicted-actual graph"
   ]
  },
  {
   "cell_type": "code",
   "execution_count": 14,
   "metadata": {
    "scrolled": true
   },
   "outputs": [
    {
     "data": {
      "image/png": "[encoded data removed]",
      "text/plain": [
       "<Figure size 324x324 with 1 Axes>"
      ]
     },
     "metadata": {
      "needs_background": "light"
     },
     "output_type": "display_data"
    }
   ],
   "source": [
    "from sklearn.metrics import mean_squared_error\n",
    "mse = mean_squared_error(Y_all_new[id_test[:,0].astype(int)], mean_test_gt.numpy())\n",
    "\n",
    "import math\n",
    "rmse = math.sqrt(mean_squared_error(Y_all[id_test[:,0].astype(int)], mean_test_gt.numpy()))\n",
    "\n",
    "\n",
    "x = np.linspace(-3.5, 500,100)\n",
    "plt.figure(figsize=(4.5, 4.5))\n",
    "\n",
    "plt.scatter(Y_all_new[id_test[:,0].astype(int)], mean_test_gt,label=\"Test dataset\")\n",
    "plt.plot(Y_all_new[id_train[:,0].astype(int)], mean_train_gt, 'kx', label=\"Train dataset\")\n",
    "plt.plot(x, x,'b', label='y=x')\n",
    "plt.legend()\n",
    "plt.xlabel('Actual Energy')\n",
    "plt.ylabel('Predicted Energy')\n",
    "from sklearn.metrics import r2_score\n",
    "r2 = r2_score(Y_all_new[id_test[:,0].astype(int)], mean_test_gt)\n",
    "plt.title('r^2='+str(r2) + '\\n' + 'MSE=' + str(mse) + '\\n' + 'RMSE=' + str(rmse))\n",
    "plt.savefig('AP_withopt.jpg')"
   ]
  },
  {
   "cell_type": "code",
   "execution_count": 35,
   "metadata": {},
   "outputs": [
    {
     "data": {
      "text/plain": [
       "492.658555634302"
      ]
     },
     "execution_count": 35,
     "metadata": {},
     "output_type": "execute_result"
    }
   ],
   "source": [
    "Y0.max()"
   ]
  },
  {
   "cell_type": "code",
   "execution_count": 46,
   "metadata": {},
   "outputs": [
    {
     "data": {
      "text/plain": [
       "Text(0, 0.5, 'Energy')"
      ]
     },
     "execution_count": 46,
     "metadata": {},
     "output_type": "execute_result"
    },
    {
     "data": {
      "image/png": "[encoded data removed]",
      "text/plain": [
       "<Figure size 864x432 with 1 Axes>"
      ]
     },
     "metadata": {
      "needs_background": "light"
     },
     "output_type": "display_data"
    }
   ],
   "source": [
    "mean_all0, var_all0 = model.predict_f(X)\n",
    "mean_all = mean_all0 * std_y + mean_y\n",
    "Y_all = Y0 \n",
    "var_all = var_all0 * std_y + mean_y\n",
    "NoiseVar = NoiseVar *std_y + mean_y\n",
    "plt.figure(figsize=(12, 6))\n",
    "plt.plot(Angle[id_train[:,0].astype(int)].reshape(-1), Y_all[id_train[:,0].astype(int)], \"kx\", mew=2, label=\"GT train_data\")\n",
    "plt.plot(Angle[id_test[:,0].astype(int)].reshape(-1), Y_all[id_test[:,0].astype(int)], \"r+\", mew=2, alpha=.4, label=\"GT test_data\")\n",
    "plt.plot(Angle.reshape(-1), mean_all.numpy(),'midnightblue', lw=1, label=\"Predicted mean\")\n",
    "\n",
    "ang_plt = Angle[:,0]\n",
    "y1 = mean_all[:, 0] - 1.96 * np.sqrt(var_all[:, 0])\n",
    "y2 = mean_all[:, 0] + 1.96 * np.sqrt(var_all[:, 0])\n",
    "plt.fill_between(\n",
    "    ang_plt,\n",
    "    y1.numpy(),\n",
    "    y2.numpy(),\n",
    "    color=\"r\",\n",
    "    alpha=0.1,\n",
    "    label='CI'\n",
    ")\n",
    "plt.errorbar(\n",
    "    Angle,\n",
    "    Y_all,\n",
    "    yerr=2 * (np.sqrt(NoiseVar)).squeeze(),\n",
    "#     marker=\"x\",\n",
    "    lw=0,\n",
    "    elinewidth=1.0,\n",
    "    color=\"C1\",\n",
    "    label='Noise variance'\n",
    ")\n",
    "# _ = plt.xlim(-.1, 3.4)\n",
    "plt.legend()\n",
    "# plt.title('Random train data set')\n",
    "plt.xlabel('Misorientation angle')\n",
    "plt.ylabel('Energy')"
   ]
  },
  {
   "cell_type": "code",
   "execution_count": 45,
   "metadata": {},
   "outputs": [
    {
     "data": {
      "text/plain": [
       "Text(0, 0.5, 'Residual')"
      ]
     },
     "execution_count": 45,
     "metadata": {},
     "output_type": "execute_result"
    },
    {
     "data": {
      "image/png": "[encoded data removed]",
      "text/plain": [
       "<Figure size 864x432 with 1 Axes>"
      ]
     },
     "metadata": {
      "needs_background": "light"
     },
     "output_type": "display_data"
    }
   ],
   "source": [
    "plt.figure(figsize=(12, 6))\n",
    "res = mean_all - Y0.reshape(-1,1)\n",
    "plt.plot(Angle, res, 'kx')\n",
    "plt.hlines(y=0, xmin=-10, xmax=191, color='b', linestyles='dashed')\n",
    "_ = plt.xlim(-5, 185)\n",
    "plt.xlabel('Misorientation angle')\n",
    "plt.ylabel('Residual')"
   ]
  },
  {
   "cell_type": "code",
   "execution_count": 42,
   "metadata": {},
   "outputs": [
    {
     "data": {
      "text/plain": [
       "<tf.Tensor: shape=(9, 1), dtype=float64, numpy=\n",
       "array([[125.25947352],\n",
       "       [337.90016783],\n",
       "       [365.5577293 ],\n",
       "       [261.58550096],\n",
       "       [420.58031455],\n",
       "       [444.73549919],\n",
       "       [365.89058199],\n",
       "       [442.19188767],\n",
       "       [378.79811488]])>"
      ]
     },
     "execution_count": 42,
     "metadata": {},
     "output_type": "execute_result"
    }
   ],
   "source": [
    "mean_all[1:10]"
   ]
  },
  {
   "cell_type": "code",
   "execution_count": 44,
   "metadata": {},
   "outputs": [
    {
     "data": {
      "text/plain": [
       "(68,)"
      ]
     },
     "execution_count": 44,
     "metadata": {},
     "output_type": "execute_result"
    }
   ],
   "source": [
    "Y0.shape"
   ]
  },
  {
   "cell_type": "code",
   "execution_count": null,
   "metadata": {},
   "outputs": [],
   "source": []
  }
 ],
 "metadata": {
  "kernelspec": {
   "display_name": "Python 3",
   "language": "python",
   "name": "python3"
  },
  "language_info": {
   "codemirror_mode": {
    "name": "ipython",
    "version": 3
   },
   "file_extension": ".py",
   "mimetype": "text/x-python",
   "name": "python",
   "nbconvert_exporter": "python",
   "pygments_lexer": "ipython3",
   "version": "3.6.9"
  }
 },
 "nbformat": 4,
 "nbformat_minor": 4
}
