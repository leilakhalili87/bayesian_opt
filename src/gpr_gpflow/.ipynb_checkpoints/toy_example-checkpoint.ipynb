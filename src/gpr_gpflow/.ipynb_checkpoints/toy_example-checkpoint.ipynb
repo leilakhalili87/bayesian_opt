{
 "cells": [
  {
   "cell_type": "code",
   "execution_count": 1,
   "metadata": {},
   "outputs": [],
   "source": [
    "import gpflow\n",
    "import numpy as np\n",
    "import matplotlib.pyplot as plt\n",
    "import tensorflow as tf\n",
    "from gpflow.utilities import print_summary, positive\n",
    "\n",
    "plt.style.use(\"ggplot\")\n",
    "%matplotlib inline"
   ]
  },
  {
   "cell_type": "code",
   "execution_count": 162,
   "metadata": {},
   "outputs": [
    {
     "data": {
      "text/html": [
       "<table>\n",
       "<thead>\n",
       "<tr><th>name             </th><th>class    </th><th>transform  </th><th>prior  </th><th>trainable  </th><th>shape  </th><th>dtype  </th><th style=\"text-align: right;\">  value</th></tr>\n",
       "</thead>\n",
       "<tbody>\n",
       "<tr><td>Brownian.variance</td><td>Parameter</td><td>Softplus   </td><td>       </td><td>True       </td><td>()     </td><td>float64</td><td style=\"text-align: right;\">      1</td></tr>\n",
       "</tbody>\n",
       "</table>"
      ],
      "text/plain": [
       "<IPython.core.display.HTML object>"
      ]
     },
     "metadata": {},
     "output_type": "display_data"
    }
   ],
   "source": [
    "data_pd = '../../data/dist.txt'\n",
    "def _octonion_dist(X, X2):\n",
    "\n",
    "    X = tf.reshape(X, [-1,1])\n",
    "\n",
    "    pd = np.loadtxt(data_pd)\n",
    "\n",
    "    X2 = tf.reshape(X2, [-1,1])\n",
    "    dist0 = np.zeros((len(X), len(X2)))\n",
    "    dist = tf.Variable(dist0) # Use variable \n",
    "    for i in range(len(X)):\n",
    "        init_val = int(X[i].numpy())\n",
    "        for j in range(len(X2)):\n",
    "            fin_val = int(X2[j].numpy())\n",
    "            dist0[i,j] = pd[init_val, fin_val]\n",
    "    dist.assign(dist0)\n",
    "#     dist = tf.minimum(X, tf.transpose(X2))\n",
    "#     print(dist)\n",
    "    return dist\n",
    "def _octonion_dist_single(X):\n",
    "\n",
    "    X = tf.reshape(X, [-1,1])\n",
    "\n",
    "    pd = np.loadtxt(data_pd)\n",
    "    dist0 = np.zeros((len(X)))\n",
    "    dist = tf.Variable(dist0) # Use variable \n",
    "    for i in range(len(X)):\n",
    "        \n",
    "        init_val = int(X[i].numpy())\n",
    "        print(init_val)\n",
    "        dist0[i] = pd[init_val, init_val]\n",
    "    dist.assign(dist0)\n",
    "#     dist = tf.minimum(X, tf.transpose(X2))\n",
    "#     print(dist)\n",
    "    return dist\n",
    "\n",
    "class Brownian(gpflow.kernels.Kernel):\n",
    "    def __init__(self):\n",
    "        super().__init__(active_dims=[0])\n",
    "        self.variance = gpflow.Parameter(1.0, transform=positive())\n",
    "\n",
    "    def K(self, X, X2=None):\n",
    "        if X2 is None:\n",
    "            X2 = X\n",
    "        return self.variance *_octonion_dist(X, X2)  # this returns a 2D tensor\n",
    "\n",
    "    def K_diag(self, X):\n",
    "        print(_octonion_dist_single(X))\n",
    "        return self.variance * tf.reshape(X, (-1,))  # this returns a 1D tensor\n",
    "\n",
    "\n",
    "k_brownian = Brownian()\n",
    "print_summary(k_brownian, fmt=\"notebook\")\n",
    "\n",
    "\n"
   ]
  },
  {
   "cell_type": "code",
   "execution_count": null,
   "metadata": {},
   "outputs": [],
   "source": []
  },
  {
   "cell_type": "code",
   "execution_count": 163,
   "metadata": {},
   "outputs": [],
   "source": [
    "np.random.seed(42)\n",
    "N = 11\n",
    "n_train = 6\n",
    "id_all = np.linspace(0,N-1, N)\n",
    "Y_all = np.sin(id_all * 6) + np.random.randn(*id_all.shape) * 0.001\n",
    "\n",
    "\n",
    "\n",
    "# I chose n_train gbs as training data set randomly\n",
    "id_train = np.sort(np.random.choice(N, size=n_train, replace=False))\n",
    "Y_train = Y_all[id_train].reshape(-1,1)\n",
    "id_train = np.array(id_train, dtype=np.float64)\n",
    "\n",
    "# I chose rest of the gbs as the test set\n",
    "id_test = id_all[~np.in1d(id_all,id_train)].reshape(-1,1)\n",
    "Y_test = Y_all[id_test.astype(int)].reshape(-1,1)\n",
    "id_train = id_train.reshape(-1,1)\n",
    "\n",
    "\n"
   ]
  },
  {
   "cell_type": "code",
   "execution_count": 164,
   "metadata": {},
   "outputs": [
    {
     "data": {
      "text/html": [
       "<table>\n",
       "<thead>\n",
       "<tr><th>name                   </th><th>class    </th><th>transform       </th><th>prior  </th><th>trainable  </th><th>shape  </th><th>dtype  </th><th style=\"text-align: right;\">      value</th></tr>\n",
       "</thead>\n",
       "<tbody>\n",
       "<tr><td>GPR.kernel.variance    </td><td>Parameter</td><td>Softplus        </td><td>       </td><td>True       </td><td>()     </td><td>float64</td><td style=\"text-align: right;\">0.0577231  </td></tr>\n",
       "<tr><td>GPR.likelihood.variance</td><td>Parameter</td><td>Softplus + Shift</td><td>       </td><td>True       </td><td>()     </td><td>float64</td><td style=\"text-align: right;\">1.13617e-06</td></tr>\n",
       "</tbody>\n",
       "</table>"
      ],
      "text/plain": [
       "<IPython.core.display.HTML object>"
      ]
     },
     "metadata": {},
     "output_type": "display_data"
    },
    {
     "name": "stdout",
     "output_type": "stream",
     "text": [
      "0\n",
      "2\n",
      "5\n",
      "8\n",
      "9\n",
      "<tf.Variable 'Variable:0' shape=(5,) dtype=float64, numpy=array([0., 2., 5., 8., 9.])>\n"
     ]
    },
    {
     "data": {
      "image/png": "[encoded data removed]",
      "text/plain": [
       "<Figure size 432x288 with 1 Axes>"
      ]
     },
     "metadata": {
      "needs_background": "light"
     },
     "output_type": "display_data"
    }
   ],
   "source": [
    "tf.config.run_functions_eagerly(True)\n",
    "k = Brownian()\n",
    "\n",
    "m = gpflow.models.GPR((id_train, Y_train), kernel=k)\n",
    "\n",
    "\n",
    "opt = gpflow.optimizers.Scipy()\n",
    "opt.minimize(m.training_loss, variables=m.trainable_variables)\n",
    "print_summary(m, fmt=\"notebook\")\n",
    "\n",
    "xx = id_test\n",
    "mean, var = m.predict_y(xx)\n",
    "plt.plot(X, Y, \"kx\", mew=2)\n",
    "(line,) = plt.plot(xx, mean, lw=2)\n",
    "_ = plt.fill_between(\n",
    "    xx[:, 0],\n",
    "    mean[:, 0] - 2 * np.sqrt(var[:, 0]),\n",
    "    mean[:, 0] + 2 * np.sqrt(var[:, 0]),\n",
    "    color=line.get_color(),\n",
    "    alpha=0.2,\n",
    ")\n"
   ]
  },
  {
   "cell_type": "code",
   "execution_count": 152,
   "metadata": {},
   "outputs": [
    {
     "data": {
      "text/plain": [
       "array([[0.],\n",
       "       [2.],\n",
       "       [5.],\n",
       "       [8.],\n",
       "       [9.]])"
      ]
     },
     "execution_count": 152,
     "metadata": {},
     "output_type": "execute_result"
    }
   ],
   "source": [
    "id_test"
   ]
  },
  {
   "cell_type": "code",
   "execution_count": null,
   "metadata": {},
   "outputs": [],
   "source": []
  }
 ],
 "metadata": {
  "kernelspec": {
   "display_name": "Python 3",
   "language": "python",
   "name": "python3"
  },
  "language_info": {
   "codemirror_mode": {
    "name": "ipython",
    "version": 3
   },
   "file_extension": ".py",
   "mimetype": "text/x-python",
   "name": "python",
   "nbconvert_exporter": "python",
   "pygments_lexer": "ipython3",
   "version": "3.6.9"
  }
 },
 "nbformat": 4,
 "nbformat_minor": 4
}
