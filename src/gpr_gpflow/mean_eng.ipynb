{
 "cells": [
  {
   "cell_type": "markdown",
   "metadata": {},
   "source": [
    "# This notebook creates the energy- angle data to use as an input in the mean function. \n",
    "\n"
   ]
  },
  {
   "cell_type": "code",
   "execution_count": 1,
   "metadata": {},
   "outputs": [],
   "source": [
    "import numpy as np\n",
    "import pickle as pkl\n",
    "import matplotlib.pyplot as plt"
   ]
  },
  {
   "cell_type": "code",
   "execution_count": 2,
   "metadata": {},
   "outputs": [],
   "source": [
    "def dist_th(th_var, th1, th_period):\n",
    "    ## Account for periodicity\n",
    "    th_var1 = (th_var%th_period)\n",
    "    del1_th1 = (np.abs(th_var1 - th1))\n",
    "    del2_th1 = (np.abs(th1 + th_period - th_var1))\n",
    "    del_th1 = np.minimum(del1_th1, del2_th1)\n",
    "    return del_th1\n",
    "\n",
    "def func_val(del_th, dth1, a1, h1):\n",
    "    y_val = 0*del_th\n",
    "    nsz = np.size(del_th)\n",
    "    for ct1 in range(nsz):\n",
    "        dth = del_th[ct1]\n",
    "        if dth == 0:\n",
    "            y_val[ct1] = a1\n",
    "        elif (dth <= dth1) and (dth > 0):\n",
    "            dth_sc = dth/dth1\n",
    "            y_val[ct1] = ((h1-a1)*(dth_sc)*(1 - np.log(dth_sc)) + a1)\n",
    "        elif (dth > dth1):\n",
    "            y_val[ct1] = h1\n",
    "    return y_val"
   ]
  },
  {
   "cell_type": "markdown",
   "metadata": {},
   "source": [
    "Read the data for [110] symm tilt gbs data\n"
   ]
  },
  {
   "cell_type": "code",
   "execution_count": 3,
   "metadata": {},
   "outputs": [],
   "source": [
    "pkl_name = '../../data/symm_angs_engs.pkl'\n",
    "jar = open(pkl_name, 'rb')\n",
    "s2 = pkl.load(jar,encoding='latin1')\n",
    "jar.close()\n",
    "\n",
    "angle = s2['angs']                 # in radian\n",
    "Es = s2['engs']                     # eng is mJ/m^2\n",
    "cusp_ang = s2['cusps']['angs']      # the angle of cusps in radian \n",
    "cusp_Es = s2['cusps']['engs']       # the energy of cusps in radian"
   ]
  },
  {
   "cell_type": "code",
   "execution_count": 6,
   "metadata": {},
   "outputs": [
    {
     "data": {
      "text/plain": [
       "array([  0.        ,  75.19372177, 150.7627575 ])"
      ]
     },
     "execution_count": 6,
     "metadata": {},
     "output_type": "execute_result"
    }
   ],
   "source": [
    "cusp_Es"
   ]
  },
  {
   "cell_type": "code",
   "execution_count": 4,
   "metadata": {},
   "outputs": [
    {
     "name": "stdout",
     "output_type": "stream",
     "text": [
      "[0, 7.368062997280773]\n",
      "[1.3850801975344966, 7.368062997280773]\n",
      "[2.7770737373031964, 7.368062997280773]\n"
     ]
    }
   ],
   "source": [
    "## Global Mean-Energy parameter\n",
    "h = 400 ## mJ/m^2\n",
    "## Randomly initialized to satisy the constraint h1*h2*h3 = h\n",
    "h1 = h**(1.0/3.0)\n",
    "h2 = h**(1.0/3.0)\n",
    "h3 = h**(1.0/3.0)\n",
    "\n",
    "## Cusp-1\n",
    "th1 = cusp_ang[0]\n",
    "E1 = cusp_Es[0] ## mJ/m^2\n",
    "# Parameters\n",
    "dth1 = 15*np.pi/180 ## degrees\n",
    "a1 = 0 ## a1*h2*h3 = E1\n",
    "\n",
    "## Cusp-2\n",
    "th2 = cusp_ang[1]\n",
    "E2 = cusp_Es[1] ## mJ/m^2\n",
    "# Parameters\n",
    "dth2 = 10*np.pi/180\n",
    "a2 = E2/(h1*h3) ## a2*h1*h3 = E2\n",
    "\n",
    "\n",
    "## Cusp-3\n",
    "th3 = cusp_ang[2]\n",
    "E3 = cusp_Es[2]\n",
    "# Parameters\n",
    "dth3 = 10*np.pi/180\n",
    "a3 = E3/(h1*h2) ## a3*h1*h2 = E3\n",
    "\n",
    "print([a1,h1])\n",
    "print([a2,h2])\n",
    "print([a3,h3])"
   ]
  },
  {
   "cell_type": "code",
   "execution_count": 5,
   "metadata": {},
   "outputs": [
    {
     "data": {
      "text/plain": [
       "[<matplotlib.lines.Line2D at 0x7f54b08d68d0>]"
      ]
     },
     "execution_count": 5,
     "metadata": {},
     "output_type": "execute_result"
    },
    {
     "data": {
      "image/png": "[encoded data removed]",
      "text/plain": [
       "<Figure size 432x288 with 1 Axes>"
      ]
     },
     "metadata": {
      "needs_background": "light"
     },
     "output_type": "display_data"
    }
   ],
   "source": [
    "\n",
    "## Plot function w.r.to Cusp-1\n",
    "th_var = angle\n",
    "del_th1 = dist_th(th_var, th1, np.pi)\n",
    "eng_y1 = func_val(del_th1, dth1, a1, h1)\n",
    "\n",
    "\n",
    "\n",
    "## Plot function w.r.to Cusp-2\n",
    "th_var = angle\n",
    "del_th2 = dist_th(th_var, th2, np.pi)\n",
    "eng_y2 = func_val(del_th2, dth2, a2, h2)\n",
    "\n",
    "\n",
    "## Plot function w.r.to Cusp-3\n",
    "th_var = angle\n",
    "del_th3 = dist_th(th_var, th3, np.pi)\n",
    "eng_y3 = func_val(del_th3, dth3, a3, h3)\n",
    "\n",
    "\n",
    "## Product Function\n",
    "eng_y = eng_y1*eng_y2*eng_y3\n",
    "# print(eng_y)\n",
    "plt.plot(th_var*180/np.pi, eng_y)"
   ]
  },
  {
   "cell_type": "code",
   "execution_count": 10,
   "metadata": {},
   "outputs": [],
   "source": [
    "\n",
    "mean_y = np.mean(eng_y)\n",
    "std_y = np.std(eng_y)\n",
    "eng_y = (eng_y - mean_y) / std_y\n",
    "id_data = np.linspace(0,67,68, dtype=int)\n",
    "np.savetxt('read_mean.txt', np.c_[angle, eng_y])"
   ]
  },
  {
   "cell_type": "code",
   "execution_count": 7,
   "metadata": {},
   "outputs": [
    {
     "data": {
      "text/plain": [
       "[<matplotlib.lines.Line2D at 0x7f5445944a20>]"
      ]
     },
     "execution_count": 7,
     "metadata": {},
     "output_type": "execute_result"
    },
    {
     "data": {
      "image/png": "[encoded data removed]",
      "text/plain": [
       "<Figure size 432x288 with 1 Axes>"
      ]
     },
     "metadata": {
      "needs_background": "light"
     },
     "output_type": "display_data"
    }
   ],
   "source": [
    "plt.plot(th_var*180/np.pi, eng_y)"
   ]
  },
  {
   "cell_type": "code",
   "execution_count": 8,
   "metadata": {},
   "outputs": [],
   "source": [
    "pkl_name = '../../data/symm_angs_engs.pkl'\n",
    "jar = open(pkl_name, 'rb')\n",
    "s2 = pkl.load(jar,encoding='latin1')\n",
    "jar.close()\n",
    "\n",
    "Angle = s2['angs']                 # in radian\n",
    "Y0 = s2['engs']     \n",
    "mean_y = np.mean(Y0)\n",
    "std_y = np.std(Y0)\n",
    "Y = (Y0 - np.mean(Y0)) / np.std(Y0)\n",
    "NoiseVar = np.exp(-((Y - 2) ** 2) / 4)/10"
   ]
  },
  {
   "cell_type": "code",
   "execution_count": 9,
   "metadata": {},
   "outputs": [
    {
     "data": {
      "text/plain": [
       "Text(0, 0.5, 'Energy')"
      ]
     },
     "execution_count": 9,
     "metadata": {},
     "output_type": "execute_result"
    },
    {
     "data": {
      "image/png": "[encoded data removed]",
      "text/plain": [
       "<Figure size 432x288 with 1 Axes>"
      ]
     },
     "metadata": {
      "needs_background": "light"
     },
     "output_type": "display_data"
    }
   ],
   "source": [
    "plt.plot(th_var*180/np.pi, Y, label='actual data')\n",
    "plt.errorbar(\n",
    "    th_var*180/np.pi,\n",
    "    Y,\n",
    "    yerr=2 * (np.sqrt(NoiseVar)).squeeze(),\n",
    "    marker=\"x\",\n",
    "    lw=0,\n",
    "    elinewidth=.5,\n",
    "    color=\"r\",\n",
    "    label='Noise variance'\n",
    ")\n",
    "plt.legend()\n",
    "plt.xlabel('Misorientation angle')\n",
    "plt.ylabel('Energy')"
   ]
  },
  {
   "cell_type": "code",
   "execution_count": 11,
   "metadata": {},
   "outputs": [
    {
     "data": {
      "text/plain": [
       "0.0933491783527273"
      ]
     },
     "execution_count": 11,
     "metadata": {},
     "output_type": "execute_result"
    }
   ],
   "source": [
    "NoiseVar.max()"
   ]
  },
  {
   "cell_type": "code",
   "execution_count": null,
   "metadata": {},
   "outputs": [],
   "source": []
  }
 ],
 "metadata": {
  "kernelspec": {
   "display_name": "Python 3",
   "language": "python",
   "name": "python3"
  },
  "language_info": {
   "codemirror_mode": {
    "name": "ipython",
    "version": 3
   },
   "file_extension": ".py",
   "mimetype": "text/x-python",
   "name": "python",
   "nbconvert_exporter": "python",
   "pygments_lexer": "ipython3",
   "version": "3.6.9"
  }
 },
 "nbformat": 4,
 "nbformat_minor": 4
}
